{
 "cells": [
  {
   "cell_type": "markdown",
   "id": "2e0c3fd5-cd29-428f-a4c3-09a528a3940c",
   "metadata": {
    "editable": true,
    "slideshow": {
     "slide_type": ""
    },
    "tags": []
   },
   "source": [
    "# build name signs"
   ]
  },
  {
   "cell_type": "code",
   "execution_count": null,
   "id": "3a1dbd69-8147-42a5-9453-412030e7419d",
   "metadata": {
    "editable": true,
    "papermill": {
     "duration": 0.01749,
     "end_time": "2023-09-01T10:01:18.117169",
     "exception": false,
     "start_time": "2023-09-01T10:01:18.099679",
     "status": "completed"
    },
    "slideshow": {
     "slide_type": ""
    },
    "tags": [
     "parameters"
    ]
   },
   "outputs": [],
   "source": [
    "# PAPERMILL PARAMETERS\n",
    "FILE_SECRET = \"\"\n",
    "FILE_OUTPUT = \"\"\n",
    "SHEET = \"\"\n",
    "TAB = \"\""
   ]
  },
  {
   "cell_type": "code",
   "execution_count": null,
   "id": "5242745c-e3a5-45cb-8d4c-2abd5c71e45b",
   "metadata": {
    "editable": true,
    "papermill": {
     "duration": 0.00825,
     "end_time": "2023-09-01T10:01:18.130038",
     "exception": false,
     "start_time": "2023-09-01T10:01:18.121788",
     "status": "completed"
    },
    "slideshow": {
     "slide_type": ""
    },
    "tags": [
     "injected-parameters"
    ]
   },
   "outputs": [],
   "source": [
    "# Injected parameters\n",
    "FILE_SECRET = \"\"\n",
    "FILE_OUTPUT = \"\"\n",
    "SHEET = \"\"\n",
    "TAB = \"\""
   ]
  },
  {
   "cell_type": "code",
   "execution_count": null,
   "id": "300f35de-70f8-4543-b595-b995c3aa2c62",
   "metadata": {
    "editable": true,
    "slideshow": {
     "slide_type": ""
    },
    "tags": []
   },
   "outputs": [],
   "source": [
    "import os\n",
    "\n",
    "import gspread\n",
    "import gspread_dataframe\n",
    "import numpy as np\n",
    "import oauth2client.service_account\n",
    "import pandas as pd\n",
    "from fpdf import FPDF"
   ]
  },
  {
   "cell_type": "code",
   "execution_count": null,
   "id": "326d511e-d7aa-4def-87c9-f38a214ac59a",
   "metadata": {
    "editable": true,
    "slideshow": {
     "slide_type": ""
    },
    "tags": []
   },
   "outputs": [],
   "source": [
    "class PDF(FPDF):\n",
    "    # 210 x 297 mm\n",
    "    def lines(self):\n",
    "        self.set_line_width(0.25)\n",
    "        self.line(0, 105, 5, 105)\n",
    "        self.line(292, 105, 297, 105)\n",
    "\n",
    "    def last_name(self, x):\n",
    "        self.set_xy(0, 170)\n",
    "        self.set_font(\"DejaVu\", \"B\", 50)\n",
    "        self.set_text_color(100, 100, 100)\n",
    "        self.cell(w=297, align=\"C\", txt=x, border=0)\n",
    "\n",
    "    def first_name(self, x):\n",
    "        self.set_xy(0, 125)\n",
    "        self.set_font(\"DejaVu\", \"B\", 120)\n",
    "        self.set_text_color(0, 0, 0)\n",
    "        self.cell(w=297, align=\"C\", txt=x, border=0)\n",
    "\n",
    "\n",
    "def read_sheet(id, tab, gc):\n",
    "    # read data\n",
    "    data_sheet = gc.open_by_key(id).worksheet(tab)\n",
    "    data = data_sheet.get_all_values()\n",
    "\n",
    "    # extract header\n",
    "    headers = data[0]\n",
    "    data = data[1:]\n",
    "\n",
    "    return pd.DataFrame(\n",
    "        data,\n",
    "        columns=[\"_\".join(x.lower().split(\" \")) for x in headers],\n",
    "    )"
   ]
  },
  {
   "cell_type": "markdown",
   "id": "f1d8cc80-5892-4ea4-b258-6e97bfbd222a",
   "metadata": {},
   "source": [
    "## read data"
   ]
  },
  {
   "cell_type": "code",
   "execution_count": null,
   "id": "fe52ba78-cb6d-4ad2-a4f2-b3fbbfc51ad3",
   "metadata": {
    "editable": true,
    "slideshow": {
     "slide_type": ""
    },
    "tags": []
   },
   "outputs": [],
   "source": [
    "credentials = (\n",
    "    oauth2client.service_account.ServiceAccountCredentials.from_json_keyfile_name(\n",
    "        os.path.expandvars(FILE_SECRET),\n",
    "        \"https://spreadsheets.google.com/feeds\",\n",
    "    )\n",
    ")\n",
    "gc = gspread.authorize(credentials)"
   ]
  },
  {
   "cell_type": "code",
   "execution_count": null,
   "id": "b5fa08a0-2729-47c1-91ba-4f8f10618030",
   "metadata": {},
   "outputs": [],
   "source": [
    "data = read_sheet(\n",
    "    SHEET,\n",
    "    TAB,\n",
    "    gc,\n",
    ")"
   ]
  },
  {
   "cell_type": "code",
   "execution_count": null,
   "id": "35f69b4f-9574-4c69-a268-7981095bfa55",
   "metadata": {
    "editable": true,
    "slideshow": {
     "slide_type": ""
    },
    "tags": []
   },
   "outputs": [],
   "source": [
    "data.head(3)"
   ]
  },
  {
   "cell_type": "markdown",
   "id": "d8889365-0d78-4ecd-9ac3-b217a5f8d7cd",
   "metadata": {
    "editable": true,
    "slideshow": {
     "slide_type": ""
    },
    "tags": []
   },
   "source": [
    "## create name signs"
   ]
  },
  {
   "cell_type": "code",
   "execution_count": null,
   "id": "e3b94a1d-8b5f-4f1d-a6cb-c819c4dc0b75",
   "metadata": {},
   "outputs": [],
   "source": [
    "pdf = PDF(orientation=\"L\", unit=\"mm\", format=\"A4\")\n",
    "pdf.add_font(family=\"DejaVu\", style=\"B\", fname=\"DejaVuSans-Bold.ttf\")\n",
    "pdf.set_font(\"DejaVu\", \"B\")\n",
    "\n",
    "for i in range(data.shape[0]):\n",
    "    pdf.add_page()\n",
    "    first_name = data.iloc[i][\"first_name\"]\n",
    "    last_name = data.iloc[i][\"last_name\"]\n",
    "    pdf.lines()\n",
    "    pdf.first_name(first_name)\n",
    "    pdf.last_name(last_name)\n",
    "\n",
    "    with pdf.rotation(180, 297 / 2, 210 / 2):\n",
    "        pdf.first_name(first_name)\n",
    "        pdf.last_name(last_name)\n",
    "\n",
    "pdf.output(FILE_OUTPUT)"
   ]
  }
 ],
 "metadata": {
  "kernelspec": {
   "display_name": "Python 3 (ipykernel)",
   "language": "python",
   "name": "python3"
  },
  "language_info": {
   "codemirror_mode": {
    "name": "ipython",
    "version": 3
   },
   "file_extension": ".py",
   "mimetype": "text/x-python",
   "name": "python",
   "nbconvert_exporter": "python",
   "pygments_lexer": "ipython3",
   "version": "3.9.6"
  }
 },
 "nbformat": 4,
 "nbformat_minor": 5
}
